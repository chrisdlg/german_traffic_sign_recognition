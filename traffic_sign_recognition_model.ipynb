{
 "cells": [
  {
   "cell_type": "code",
   "execution_count": 65,
   "metadata": {},
   "outputs": [
    {
     "name": "stdout",
     "output_type": "stream",
     "text": [
      "Device mapping:\n",
      "/job:localhost/replica:0/task:0/device:XLA_CPU:0 -> device: XLA_CPU device\n",
      "/job:localhost/replica:0/task:0/device:GPU:0 -> device: 0, name: GeForce RTX 2080, pci bus id: 0000:01:00.0, compute capability: 7.5\n",
      "/job:localhost/replica:0/task:0/device:XLA_GPU:0 -> device: XLA_GPU device\n",
      "\n"
     ]
    }
   ],
   "source": [
    "from skimage import io, color, exposure, transform\n",
    "import numpy as np\n",
    "import keras as k\n",
    "from keras.models import Sequential\n",
    "from keras.layers import Dense, Dropout, MaxPooling2D, Conv2D, Flatten\n",
    "from keras.backend.tensorflow_backend import set_session\n",
    "from keras import optimizers\n",
    "from keras.utils.vis_utils import plot_model\n",
    "from keras.callbacks import ModelCheckpoint\n",
    "from sklearn.model_selection import train_test_split\n",
    "import tensorflow as tf\n",
    "import os\n",
    "import glob\n",
    "import matplotlib.pyplot as plt\n",
    "%matplotlib inline\n",
    "\n",
    "config = tf.ConfigProto()\n",
    "config.gpu_options.allow_growth = True  # dynamically grow the memory used on the GPU\n",
    "config.log_device_placement = True  # to log device placement (on which device the operation ran)\n",
    "sess = tf.Session(config=config)\n",
    "set_session(sess)  # set this TensorFlow session as the default session for Keras\n",
    "\n",
    "dir_ = 'GTSRB/Final_Training/Images/'\n",
    "paths = glob.glob(os.path.join(dir_, '*/*.ppm'))"
   ]
  },
  {
   "cell_type": "code",
   "execution_count": 66,
   "metadata": {},
   "outputs": [],
   "source": [
    "n_class = 43\n",
    "n_px = 48\n",
    "# training\n",
    "epochs = 30\n",
    "batch_size = 32\n",
    "# Convolution\n",
    "kernel_size = 3\n",
    "pool_size = 2"
   ]
  },
  {
   "cell_type": "code",
   "execution_count": 67,
   "metadata": {},
   "outputs": [],
   "source": [
    "#RGB2HSV, normalize, HSV2RGB, resize\n",
    "def preprocess(img):\n",
    "    hsv_image = color.rgb2hsv(img)\n",
    "    hsv_image[:, :, 2] = exposure.equalize_hist(hsv_image[:, :, 2])\n",
    "    img = color.hsv2rgb(hsv_image)\n",
    "    img = transform.resize(img, (n_px, n_px))\n",
    "    return img"
   ]
  },
  {
   "cell_type": "code",
   "execution_count": 68,
   "metadata": {},
   "outputs": [],
   "source": [
    "def load_dataset(paths):\n",
    "    count = 0\n",
    "    images = []\n",
    "    labels = []\n",
    "    for img_path in paths:\n",
    "        image = preprocess(io.imread(img_path))\n",
    "        label = img_path.split('/')[-2]\n",
    "        images.append(image)\n",
    "        labels.append(label)\n",
    "    X_images = np.array(images)\n",
    "    Y_labels = k.utils.to_categorical(labels, num_classes = n_class)\n",
    "    return X_images, Y_labels"
   ]
  },
  {
   "cell_type": "code",
   "execution_count": 69,
   "metadata": {},
   "outputs": [
    {
     "name": "stderr",
     "output_type": "stream",
     "text": [
      "/home/chris/anaconda3/envs/tf/lib/python3.7/site-packages/skimage/color/colorconv.py:279: RuntimeWarning: divide by zero encountered in true_divide\n",
      "  out[idx, 0] = 4. + (arr[idx, 0] - arr[idx, 1]) / delta[idx]\n",
      "/home/chris/anaconda3/envs/tf/lib/python3.7/site-packages/skimage/color/colorconv.py:271: RuntimeWarning: divide by zero encountered in true_divide\n",
      "  out[idx, 0] = (arr[idx, 1] - arr[idx, 2]) / delta[idx]\n",
      "/home/chris/anaconda3/envs/tf/lib/python3.7/site-packages/skimage/color/colorconv.py:275: RuntimeWarning: divide by zero encountered in true_divide\n",
      "  out[idx, 0] = 2. + (arr[idx, 2] - arr[idx, 0]) / delta[idx]\n"
     ]
    }
   ],
   "source": [
    "X_images, Y_labels = load_dataset(train_paths)"
   ]
  },
  {
   "cell_type": "code",
   "execution_count": 70,
   "metadata": {},
   "outputs": [],
   "source": [
    "X_train, X_test, Y_train, Y_test = train_test_split(X_images, Y_labels, test_size = 0.2)"
   ]
  },
  {
   "cell_type": "code",
   "execution_count": 71,
   "metadata": {},
   "outputs": [],
   "source": [
    "model = Sequential()\n",
    "model.add(Conv2D(16, kernel_size, padding='same',input_shape=(n_px, n_px, 3), activation='relu'))\n",
    "model.add(Conv2D(16, kernel_size, activation='relu'))\n",
    "model.add(MaxPooling2D(pool_size))\n",
    "model.add(Dropout(0.2))\n",
    "\n",
    "model.add(Conv2D(32, kernel_size, padding='same',activation='relu'))\n",
    "model.add(Conv2D(32, kernel_size, activation='relu'))\n",
    "model.add(MaxPooling2D(pool_size))\n",
    "model.add(Dropout(0.2))\n",
    "\n",
    "model.add(Conv2D(64, kernel_size, padding='same',activation='relu'))\n",
    "model.add(Conv2D(64, kernel_size, activation='relu'))\n",
    "model.add(MaxPooling2D(pool_size))\n",
    "model.add(Dropout(0.2))\n",
    "\n",
    "model.add(Conv2D(128, kernel_size, padding='same',activation='relu'))\n",
    "model.add(Conv2D(128, kernel_size, activation='relu'))\n",
    "model.add(MaxPooling2D(pool_size))\n",
    "model.add(Dropout(0.2))\n",
    "\n",
    "model.add(Flatten())\n",
    "model.add(Dense(512, activation='relu'))\n",
    "model.add(Dropout(0.5))\n",
    "model.add(Dense(n_class, activation='softmax'))"
   ]
  },
  {
   "cell_type": "code",
   "execution_count": 72,
   "metadata": {},
   "outputs": [
    {
     "name": "stdout",
     "output_type": "stream",
     "text": [
      "_________________________________________________________________\n",
      "Layer (type)                 Output Shape              Param #   \n",
      "=================================================================\n",
      "conv2d_31 (Conv2D)           (None, 48, 48, 16)        448       \n",
      "_________________________________________________________________\n",
      "conv2d_32 (Conv2D)           (None, 46, 46, 16)        2320      \n",
      "_________________________________________________________________\n",
      "max_pooling2d_16 (MaxPooling (None, 23, 23, 16)        0         \n",
      "_________________________________________________________________\n",
      "dropout_20 (Dropout)         (None, 23, 23, 16)        0         \n",
      "_________________________________________________________________\n",
      "conv2d_33 (Conv2D)           (None, 23, 23, 32)        4640      \n",
      "_________________________________________________________________\n",
      "conv2d_34 (Conv2D)           (None, 21, 21, 32)        9248      \n",
      "_________________________________________________________________\n",
      "max_pooling2d_17 (MaxPooling (None, 10, 10, 32)        0         \n",
      "_________________________________________________________________\n",
      "dropout_21 (Dropout)         (None, 10, 10, 32)        0         \n",
      "_________________________________________________________________\n",
      "conv2d_35 (Conv2D)           (None, 10, 10, 64)        18496     \n",
      "_________________________________________________________________\n",
      "conv2d_36 (Conv2D)           (None, 8, 8, 64)          36928     \n",
      "_________________________________________________________________\n",
      "max_pooling2d_18 (MaxPooling (None, 4, 4, 64)          0         \n",
      "_________________________________________________________________\n",
      "dropout_22 (Dropout)         (None, 4, 4, 64)          0         \n",
      "_________________________________________________________________\n",
      "conv2d_37 (Conv2D)           (None, 4, 4, 128)         73856     \n",
      "_________________________________________________________________\n",
      "conv2d_38 (Conv2D)           (None, 2, 2, 128)         147584    \n",
      "_________________________________________________________________\n",
      "max_pooling2d_19 (MaxPooling (None, 1, 1, 128)         0         \n",
      "_________________________________________________________________\n",
      "dropout_23 (Dropout)         (None, 1, 1, 128)         0         \n",
      "_________________________________________________________________\n",
      "flatten_5 (Flatten)          (None, 128)               0         \n",
      "_________________________________________________________________\n",
      "dense_9 (Dense)              (None, 512)               66048     \n",
      "_________________________________________________________________\n",
      "dropout_24 (Dropout)         (None, 512)               0         \n",
      "_________________________________________________________________\n",
      "dense_10 (Dense)             (None, 43)                22059     \n",
      "=================================================================\n",
      "Total params: 381,627\n",
      "Trainable params: 381,627\n",
      "Non-trainable params: 0\n",
      "_________________________________________________________________\n"
     ]
    }
   ],
   "source": [
    "model.summary()\n",
    "plot_model(model, show_shapes=True, to_file='traffic_sign_recognition_model.png')"
   ]
  },
  {
   "cell_type": "code",
   "execution_count": 73,
   "metadata": {},
   "outputs": [],
   "source": [
    "optimizer = k.optimizers.Adam(0.001)\n",
    "model.compile(loss='categorical_crossentropy', optimizer= optimizer, metrics=['accuracy'])"
   ]
  },
  {
   "cell_type": "code",
   "execution_count": 74,
   "metadata": {},
   "outputs": [],
   "source": [
    "# checkpoint\n",
    "output_dir = \"model_weights\"\n",
    "if not os.path.exists(output_dir):\n",
    "    os.makedirs(output_dir)\n",
    "filepath=output_dir+\"/weights-improvement-{epoch:02d}-{val_acc:.2f}.hdf5\"\n",
    "checkpoint = ModelCheckpoint(filepath, monitor='val_acc', verbose=1, save_best_only=True, mode='max')\n",
    "callbacks_list = [checkpoint]"
   ]
  },
  {
   "cell_type": "code",
   "execution_count": 75,
   "metadata": {},
   "outputs": [
    {
     "name": "stdout",
     "output_type": "stream",
     "text": [
      "Train on 31367 samples, validate on 7842 samples\n",
      "Epoch 1/30\n",
      "31367/31367 [==============================] - 9s 283us/step - loss: 2.0434 - acc: 0.3792 - val_loss: 0.6711 - val_acc: 0.7728\n",
      "\n",
      "Epoch 00001: val_acc improved from -inf to 0.77276, saving model to model_weights/weights-improvement-01-0.77.hdf5\n",
      "Epoch 2/30\n",
      "31367/31367 [==============================] - 7s 215us/step - loss: 0.5713 - acc: 0.8141 - val_loss: 0.1927 - val_acc: 0.9334\n",
      "\n",
      "Epoch 00002: val_acc improved from 0.77276 to 0.93344, saving model to model_weights/weights-improvement-02-0.93.hdf5\n",
      "Epoch 3/30\n",
      "31367/31367 [==============================] - 7s 229us/step - loss: 0.2995 - acc: 0.9084 - val_loss: 0.1139 - val_acc: 0.9630\n",
      "\n",
      "Epoch 00003: val_acc improved from 0.93344 to 0.96302, saving model to model_weights/weights-improvement-03-0.96.hdf5\n",
      "Epoch 4/30\n",
      "31367/31367 [==============================] - 6s 207us/step - loss: 0.2052 - acc: 0.9387 - val_loss: 0.0722 - val_acc: 0.9778\n",
      "\n",
      "Epoch 00004: val_acc improved from 0.96302 to 0.97781, saving model to model_weights/weights-improvement-04-0.98.hdf5\n",
      "Epoch 5/30\n",
      "31367/31367 [==============================] - 7s 214us/step - loss: 0.1622 - acc: 0.9519 - val_loss: 0.0856 - val_acc: 0.9740\n",
      "\n",
      "Epoch 00005: val_acc did not improve from 0.97781\n",
      "Epoch 6/30\n",
      "31367/31367 [==============================] - 7s 210us/step - loss: 0.1412 - acc: 0.9591 - val_loss: 0.0498 - val_acc: 0.9856\n",
      "\n",
      "Epoch 00006: val_acc improved from 0.97781 to 0.98559, saving model to model_weights/weights-improvement-06-0.99.hdf5\n",
      "Epoch 7/30\n",
      "31367/31367 [==============================] - 7s 209us/step - loss: 0.1320 - acc: 0.9625 - val_loss: 0.0616 - val_acc: 0.9813\n",
      "\n",
      "Epoch 00007: val_acc did not improve from 0.98559\n",
      "Epoch 8/30\n",
      "31367/31367 [==============================] - 7s 218us/step - loss: 0.1150 - acc: 0.9671 - val_loss: 0.0782 - val_acc: 0.9787\n",
      "\n",
      "Epoch 00008: val_acc did not improve from 0.98559\n",
      "Epoch 9/30\n",
      "31367/31367 [==============================] - 7s 220us/step - loss: 0.1046 - acc: 0.9696 - val_loss: 0.0411 - val_acc: 0.9879\n",
      "\n",
      "Epoch 00009: val_acc improved from 0.98559 to 0.98789, saving model to model_weights/weights-improvement-09-0.99.hdf5\n",
      "Epoch 10/30\n",
      "31367/31367 [==============================] - 6s 203us/step - loss: 0.0950 - acc: 0.9732 - val_loss: 0.0566 - val_acc: 0.9851\n",
      "\n",
      "Epoch 00010: val_acc did not improve from 0.98789\n",
      "Epoch 11/30\n",
      "31367/31367 [==============================] - 7s 218us/step - loss: 0.1061 - acc: 0.9703 - val_loss: 0.0335 - val_acc: 0.9904\n",
      "\n",
      "Epoch 00011: val_acc improved from 0.98789 to 0.99044, saving model to model_weights/weights-improvement-11-0.99.hdf5\n",
      "Epoch 12/30\n",
      "31367/31367 [==============================] - 6s 205us/step - loss: 0.0919 - acc: 0.9740 - val_loss: 0.0721 - val_acc: 0.9804\n",
      "\n",
      "Epoch 00012: val_acc did not improve from 0.99044\n",
      "Epoch 13/30\n",
      "31367/31367 [==============================] - 6s 207us/step - loss: 0.0903 - acc: 0.9759 - val_loss: 0.0432 - val_acc: 0.9883\n",
      "\n",
      "Epoch 00013: val_acc did not improve from 0.99044\n",
      "Epoch 14/30\n",
      "31367/31367 [==============================] - 6s 206us/step - loss: 0.0883 - acc: 0.9759 - val_loss: 0.0316 - val_acc: 0.9909\n",
      "\n",
      "Epoch 00014: val_acc improved from 0.99044 to 0.99095, saving model to model_weights/weights-improvement-14-0.99.hdf5\n",
      "Epoch 15/30\n",
      "31367/31367 [==============================] - 6s 202us/step - loss: 0.0834 - acc: 0.9772 - val_loss: 0.0278 - val_acc: 0.9917\n",
      "\n",
      "Epoch 00015: val_acc improved from 0.99095 to 0.99171, saving model to model_weights/weights-improvement-15-0.99.hdf5\n",
      "Epoch 16/30\n",
      "31367/31367 [==============================] - 6s 205us/step - loss: 0.0786 - acc: 0.9786 - val_loss: 0.0345 - val_acc: 0.9908\n",
      "\n",
      "Epoch 00016: val_acc did not improve from 0.99171\n",
      "Epoch 17/30\n",
      "31367/31367 [==============================] - 7s 211us/step - loss: 0.0818 - acc: 0.9779 - val_loss: 0.0356 - val_acc: 0.9906\n",
      "\n",
      "Epoch 00017: val_acc did not improve from 0.99171\n",
      "Epoch 18/30\n",
      "31367/31367 [==============================] - 6s 203us/step - loss: 0.0995 - acc: 0.9743 - val_loss: 0.0375 - val_acc: 0.9913\n",
      "\n",
      "Epoch 00018: val_acc did not improve from 0.99171\n",
      "Epoch 19/30\n",
      "31367/31367 [==============================] - 7s 207us/step - loss: 0.0826 - acc: 0.9783 - val_loss: 0.0399 - val_acc: 0.9897\n",
      "\n",
      "Epoch 00019: val_acc did not improve from 0.99171\n",
      "Epoch 20/30\n",
      "31367/31367 [==============================] - 6s 204us/step - loss: 0.0808 - acc: 0.9791 - val_loss: 0.0309 - val_acc: 0.9920\n",
      "\n",
      "Epoch 00020: val_acc improved from 0.99171 to 0.99197, saving model to model_weights/weights-improvement-20-0.99.hdf5\n",
      "Epoch 21/30\n",
      "31367/31367 [==============================] - 7s 210us/step - loss: 0.0886 - acc: 0.9777 - val_loss: 0.0413 - val_acc: 0.9879\n",
      "\n",
      "Epoch 00021: val_acc did not improve from 0.99197\n",
      "Epoch 22/30\n",
      "31367/31367 [==============================] - 7s 211us/step - loss: 0.0820 - acc: 0.9794 - val_loss: 0.0433 - val_acc: 0.9889\n",
      "\n",
      "Epoch 00022: val_acc did not improve from 0.99197\n",
      "Epoch 23/30\n",
      "31367/31367 [==============================] - 6s 205us/step - loss: 0.0819 - acc: 0.9794 - val_loss: 0.0321 - val_acc: 0.9912\n",
      "\n",
      "Epoch 00023: val_acc did not improve from 0.99197\n",
      "Epoch 24/30\n",
      "31367/31367 [==============================] - 7s 216us/step - loss: 0.0845 - acc: 0.9784 - val_loss: 0.0405 - val_acc: 0.9907\n",
      "\n",
      "Epoch 00024: val_acc did not improve from 0.99197\n",
      "Epoch 25/30\n",
      "31367/31367 [==============================] - 7s 220us/step - loss: 0.0868 - acc: 0.9782 - val_loss: 0.0502 - val_acc: 0.9858\n",
      "\n",
      "Epoch 00025: val_acc did not improve from 0.99197\n",
      "Epoch 26/30\n",
      "31367/31367 [==============================] - 7s 208us/step - loss: 0.0766 - acc: 0.9813 - val_loss: 0.0254 - val_acc: 0.9935\n",
      "\n",
      "Epoch 00026: val_acc improved from 0.99197 to 0.99350, saving model to model_weights/weights-improvement-26-0.99.hdf5\n",
      "Epoch 27/30\n",
      "31367/31367 [==============================] - 6s 204us/step - loss: 0.0870 - acc: 0.9791 - val_loss: 0.0326 - val_acc: 0.9922\n",
      "\n",
      "Epoch 00027: val_acc did not improve from 0.99350\n",
      "Epoch 28/30\n",
      "31367/31367 [==============================] - 7s 219us/step - loss: 0.0800 - acc: 0.9799 - val_loss: 0.0282 - val_acc: 0.9931\n",
      "\n",
      "Epoch 00028: val_acc did not improve from 0.99350\n",
      "Epoch 29/30\n",
      "31367/31367 [==============================] - 6s 204us/step - loss: 0.0953 - acc: 0.9762 - val_loss: 0.0333 - val_acc: 0.9895\n",
      "\n",
      "Epoch 00029: val_acc did not improve from 0.99350\n",
      "Epoch 30/30\n",
      "31367/31367 [==============================] - 7s 208us/step - loss: 0.0998 - acc: 0.9774 - val_loss: 0.0434 - val_acc: 0.9903\n",
      "\n",
      "Epoch 00030: val_acc did not improve from 0.99350\n"
     ]
    }
   ],
   "source": [
    "history = model.fit(X_train, Y_train, batch_size=batch_size,verbose=1, callbacks=callbacks_list, epochs=epochs, validation_data = (X_test, Y_test))"
   ]
  },
  {
   "cell_type": "code",
   "execution_count": 76,
   "metadata": {},
   "outputs": [
    {
     "data": {
      "image/png": "[encoded data removed]",
      "text/plain": [
       "<Figure size 432x288 with 1 Axes>"
      ]
     },
     "metadata": {
      "needs_background": "light"
     },
     "output_type": "display_data"
    },
    {
     "data": {
      "image/png": "[encoded data removed]",
      "text/plain": [
       "<Figure size 432x288 with 1 Axes>"
      ]
     },
     "metadata": {
      "needs_background": "light"
     },
     "output_type": "display_data"
    }
   ],
   "source": [
    "# Plot training & validation accuracy values\n",
    "plt.plot(history.history['acc'])\n",
    "plt.plot(history.history['val_acc'])\n",
    "plt.title('Model accuracy')\n",
    "plt.ylabel('Accuracy')\n",
    "plt.xlabel('Epoch')\n",
    "plt.legend(['Train', 'Test'], loc='upper left')\n",
    "plt.show()\n",
    "# Plot training & validation loss values\n",
    "plt.plot(history.history['loss'])\n",
    "plt.plot(history.history['val_loss'])\n",
    "plt.title('Model loss')\n",
    "plt.ylabel('Loss')\n",
    "plt.xlabel('Epoch')\n",
    "plt.legend(['Train', 'Test'], loc='upper left')\n",
    "plt.show()"
   ]
  },
  {
   "cell_type": "code",
   "execution_count": 78,
   "metadata": {},
   "outputs": [],
   "source": [
    "model.load_weights(output_dir+\"/weights-improvement-26-0.99.hdf5\")"
   ]
  },
  {
   "cell_type": "code",
   "execution_count": 79,
   "metadata": {},
   "outputs": [
    {
     "name": "stdout",
     "output_type": "stream",
     "text": [
      "Accuracy: 99.35%\n"
     ]
    }
   ],
   "source": [
    "score = model.evaluate(X_test, Y_test, verbose=0)\n",
    "print(\"Accuracy: %.2f%%\" % (score[1]*100))"
   ]
  },
  {
   "cell_type": "code",
   "execution_count": null,
   "metadata": {},
   "outputs": [],
   "source": []
  },
  {
   "cell_type": "code",
   "execution_count": null,
   "metadata": {},
   "outputs": [],
   "source": []
  }
 ],
 "metadata": {
  "kernelspec": {
   "display_name": "Python 3",
   "language": "python",
   "name": "python3"
  }
 },
 "nbformat": 4,
 "nbformat_minor": 2
}
